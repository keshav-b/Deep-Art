{
  "nbformat": 4,
  "nbformat_minor": 0,
  "metadata": {
    "colab": {
      "name": "Style Transfer.ipynb",
      "provenance": [],
      "collapsed_sections": [],
      "authorship_tag": "ABX9TyNXJqLv+KQ+NoaxzbMYHBQt",
      "include_colab_link": true
    },
    "kernelspec": {
      "name": "python3",
      "display_name": "Python 3"
    },
    "accelerator": "GPU"
  },
  "cells": [
    {
      "cell_type": "markdown",
      "metadata": {
        "id": "view-in-github",
        "colab_type": "text"
      },
      "source": [
        "<a href=\"https://colab.research.google.com/github/keshav-b/Deep-Art/blob/master/Style_Transfer.ipynb\" target=\"_parent\"><img src=\"https://colab.research.google.com/assets/colab-badge.svg\" alt=\"Open In Colab\"/></a>"
      ]
    },
    {
      "cell_type": "markdown",
      "metadata": {
        "id": "w0yL4r70SwLN",
        "colab_type": "text"
      },
      "source": [
        "## Importing Libraries & Model"
      ]
    },
    {
      "cell_type": "code",
      "metadata": {
        "id": "-Ckh2WY1Sur8",
        "colab_type": "code",
        "colab": {}
      },
      "source": [
        "from PIL import Image\n",
        "import matplotlib.pyplot as plt\n",
        "import numpy as np\n",
        "\n",
        "import torch\n",
        "import torch.nn as nn\n",
        "import torch.optim as optim\n",
        "from torchvision import transforms, models"
      ],
      "execution_count": null,
      "outputs": []
    },
    {
      "cell_type": "code",
      "metadata": {
        "id": "mpLoN09GS0GE",
        "colab_type": "code",
        "colab": {}
      },
      "source": [
        "vgg = models.vgg19(pretrained=True).features\n",
        "\n",
        "# freeze params\n",
        "for param in vgg.parameters():\n",
        "    param.requires_grad_(False)"
      ],
      "execution_count": null,
      "outputs": []
    },
    {
      "cell_type": "code",
      "metadata": {
        "id": "kOwSdnOwTGr1",
        "colab_type": "code",
        "colab": {}
      },
      "source": [
        "device = torch.device(\"cuda\" if torch.cuda.is_available() else \"cpu\")\n",
        "vgg.to(device)"
      ],
      "execution_count": null,
      "outputs": []
    },
    {
      "cell_type": "code",
      "metadata": {
        "id": "gm7Onp2-TTjz",
        "colab_type": "code",
        "colab": {}
      },
      "source": [
        "def load_image(img_path, max_size=400, shape=None):\n",
        "  image = Image.open(img_path).convert('RGB')\n",
        "\n",
        "  if max(image.size) > max_size:\n",
        "    size = max_size\n",
        "  else:\n",
        "    size = max(image.size)\n",
        "\n",
        "  if shape is not None:\n",
        "    size = shape\n",
        "\n",
        "  in_transform = transforms.Compose([transforms.Resize(size), transforms.ToTensor(), \n",
        "                                     transforms.Normalize((0.485, 0.456, 0.406), \n",
        "                                             (0.229, 0.224, 0.225))])\n",
        "    \n",
        "  image = in_transform(image)[:3,:,:].unsqueeze(0)\n",
        "  return image"
      ],
      "execution_count": null,
      "outputs": []
    },
    {
      "cell_type": "code",
      "metadata": {
        "id": "hJly3k-FTW0Y",
        "colab_type": "code",
        "colab": {}
      },
      "source": [
        "content = load_image('dhoni.jpg').to(device)\n",
        "\n",
        "style = load_image('art.jpg', shape=content.shape[-2:]).to(device)"
      ],
      "execution_count": null,
      "outputs": []
    },
    {
      "cell_type": "code",
      "metadata": {
        "id": "Ok9WPgVqd2hh",
        "colab_type": "code",
        "colab": {}
      },
      "source": [
        "def im_convert(tensor):\n",
        "    image = tensor.to(\"cpu\").clone().detach()\n",
        "    image = image.numpy().squeeze()\n",
        "    image = image.transpose(1,2,0)\n",
        "    image = image * np.array((0.229, 0.224, 0.225)) + np.array((0.485, 0.456, 0.406))\n",
        "    image = image.clip(0, 1)\n",
        "\n",
        "    return image\n"
      ],
      "execution_count": null,
      "outputs": []
    },
    {
      "cell_type": "code",
      "metadata": {
        "id": "PnT6wICnd404",
        "colab_type": "code",
        "colab": {}
      },
      "source": [
        "plt.imshow(im_convert(content))"
      ],
      "execution_count": null,
      "outputs": []
    },
    {
      "cell_type": "code",
      "metadata": {
        "id": "WX9wNALOd9-_",
        "colab_type": "code",
        "colab": {}
      },
      "source": [
        "plt.imshow(im_convert(style))"
      ],
      "execution_count": null,
      "outputs": []
    },
    {
      "cell_type": "code",
      "metadata": {
        "id": "txop2xNcVsUF",
        "colab_type": "code",
        "colab": {}
      },
      "source": [
        "def get_features(image, model, layers=None):\n",
        "\n",
        "    if layers is None:\n",
        "        layers = {'0': 'conv1_1',\n",
        "                  '5': 'conv2_1', \n",
        "                  '10': 'conv3_1', \n",
        "                  '19': 'conv4_1',\n",
        "                  '21': 'conv4_2',  ## content \n",
        "                  '28': 'conv5_1'}\n",
        "  \n",
        "    features = {}\n",
        "    x = image\n",
        "  \n",
        "    for name, layer in model._modules.items():\n",
        "        x = layer(x)\n",
        "        if name in layers:\n",
        "            features[layers[name]] = x\n",
        "            \n",
        "    return features"
      ],
      "execution_count": null,
      "outputs": []
    },
    {
      "cell_type": "code",
      "metadata": {
        "id": "ztYVHYTnWF0O",
        "colab_type": "code",
        "colab": {}
      },
      "source": [
        "def gram_matrix(tensor):\n",
        "    _, d, h, w = tensor.size()\n",
        "    \n",
        "    tensor = tensor.view(d, h * w)\n",
        "    \n",
        "    gram = torch.mm(tensor, tensor.t())\n",
        "    \n",
        "    return gram"
      ],
      "execution_count": null,
      "outputs": []
    },
    {
      "cell_type": "code",
      "metadata": {
        "id": "BpVFavJnXtr4",
        "colab_type": "code",
        "colab": {}
      },
      "source": [
        "content_features = get_features(content, vgg)\n",
        "style_features = get_features(style, vgg)"
      ],
      "execution_count": null,
      "outputs": []
    },
    {
      "cell_type": "code",
      "metadata": {
        "id": "ummaecYWZaNz",
        "colab_type": "code",
        "colab": {}
      },
      "source": [
        "style_grams = {layer: gram_matrix(style_features[layer]) for layer in style_features}"
      ],
      "execution_count": null,
      "outputs": []
    },
    {
      "cell_type": "code",
      "metadata": {
        "id": "gNpXtTi0ZkQg",
        "colab_type": "code",
        "colab": {}
      },
      "source": [
        "# starting with the clone for the content image\n",
        "target = content.clone().requires_grad_(True).to(device)"
      ],
      "execution_count": null,
      "outputs": []
    },
    {
      "cell_type": "markdown",
      "metadata": {
        "id": "lbPYelUvakpl",
        "colab_type": "text"
      },
      "source": [
        "## Loss"
      ]
    },
    {
      "cell_type": "code",
      "metadata": {
        "id": "TsWATXXNaJ_e",
        "colab_type": "code",
        "colab": {}
      },
      "source": [
        "style_weights = {'conv1_1': 1.,\n",
        "                 'conv2_1': 0.75,\n",
        "                 'conv3_1': 0.2,\n",
        "                 'conv4_1': 0.2,\n",
        "                 'conv5_1': 0.2}\n",
        "\n",
        "content_weight = 1  # alpha\n",
        "style_weight = 1e6  # beta                 "
      ],
      "execution_count": null,
      "outputs": []
    },
    {
      "cell_type": "code",
      "metadata": {
        "id": "ileiaYAHauN7",
        "colab_type": "code",
        "colab": {}
      },
      "source": [
        "optimizer = optim.Adam([target], lr=0.003)\n",
        "epochs = 5000\n",
        "\n",
        "for i in range(1, epochs+1):\n",
        "  \n",
        "  target_features = get_features(target, vgg)\n",
        "\n",
        "  content_loss = torch.mean((target_features['conv4_2'] - content_features['conv4_2'])**2) # mse\n",
        "\n",
        "  style_loss = 0\n",
        "  for layer in style_weights:\n",
        "    target_feature = target_features[layer]\n",
        "    target_gram = gram_matrix(target_feature)\n",
        "    \n",
        "    _, d, h, w = target_feature.shape\n",
        "    style_gram = style_grams[layer]\n",
        "\n",
        "    layer_style_loss = style_weights[layer] * torch.mean((target_gram - style_gram)**2)\n",
        "    style_loss += layer_style_loss/ (d * h * w) # normalise\n",
        "\n",
        "  \n",
        "  total_loss = (content_weight * content_loss) + (style_weight * style_loss)\n",
        "\n",
        "  optimizer.zero_grad()\n",
        "  total_loss.backward()\n",
        "  optimizer.step()\n",
        "\n",
        "  if i%500 == 0:\n",
        "    print('total loss: ', total_loss.item())\n",
        "    plt.imshow(im_convert(target))\n",
        "    plt.show()"
      ],
      "execution_count": null,
      "outputs": []
    },
    {
      "cell_type": "code",
      "metadata": {
        "id": "jz10AQMcH7Ed",
        "colab_type": "code",
        "colab": {}
      },
      "source": [
        ""
      ],
      "execution_count": null,
      "outputs": []
    }
  ]
}